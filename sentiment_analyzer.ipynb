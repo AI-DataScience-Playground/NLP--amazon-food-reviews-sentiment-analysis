{
 "cells": [
  {
   "cell_type": "code",
   "execution_count": 29,
   "metadata": {},
   "outputs": [],
   "source": [
    "import numpy as np\n",
    "import pandas as pd\n",
    "import matplotlib.pyplot as plt \n",
    "import seaborn as sns\n",
    "\n",
    "import nltk"
   ]
  },
  {
   "cell_type": "code",
   "execution_count": 30,
   "metadata": {},
   "outputs": [
    {
     "data": {
      "text/plain": [
       "(568454, 10)"
      ]
     },
     "execution_count": 30,
     "metadata": {},
     "output_type": "execute_result"
    }
   ],
   "source": [
    "df = pd.read_csv('Reviews.csv')\n",
    "df.columns = df.columns.str.lower()\n",
    "df.shape"
   ]
  },
  {
   "cell_type": "code",
   "execution_count": 31,
   "metadata": {},
   "outputs": [
    {
     "data": {
      "text/html": [
       "<div>\n",
       "<style scoped>\n",
       "    .dataframe tbody tr th:only-of-type {\n",
       "        vertical-align: middle;\n",
       "    }\n",
       "\n",
       "    .dataframe tbody tr th {\n",
       "        vertical-align: top;\n",
       "    }\n",
       "\n",
       "    .dataframe thead th {\n",
       "        text-align: right;\n",
       "    }\n",
       "</style>\n",
       "<table border=\"1\" class=\"dataframe\">\n",
       "  <thead>\n",
       "    <tr style=\"text-align: right;\">\n",
       "      <th></th>\n",
       "      <th>id</th>\n",
       "      <th>productid</th>\n",
       "      <th>userid</th>\n",
       "      <th>profilename</th>\n",
       "      <th>helpfulnessnumerator</th>\n",
       "      <th>helpfulnessdenominator</th>\n",
       "      <th>score</th>\n",
       "      <th>time</th>\n",
       "      <th>summary</th>\n",
       "      <th>text</th>\n",
       "    </tr>\n",
       "  </thead>\n",
       "  <tbody>\n",
       "    <tr>\n",
       "      <th>0</th>\n",
       "      <td>1</td>\n",
       "      <td>B001E4KFG0</td>\n",
       "      <td>A3SGXH7AUHU8GW</td>\n",
       "      <td>delmartian</td>\n",
       "      <td>1</td>\n",
       "      <td>1</td>\n",
       "      <td>5</td>\n",
       "      <td>1303862400</td>\n",
       "      <td>Good Quality Dog Food</td>\n",
       "      <td>I have bought several of the Vitality canned d...</td>\n",
       "    </tr>\n",
       "    <tr>\n",
       "      <th>1</th>\n",
       "      <td>2</td>\n",
       "      <td>B00813GRG4</td>\n",
       "      <td>A1D87F6ZCVE5NK</td>\n",
       "      <td>dll pa</td>\n",
       "      <td>0</td>\n",
       "      <td>0</td>\n",
       "      <td>1</td>\n",
       "      <td>1346976000</td>\n",
       "      <td>Not as Advertised</td>\n",
       "      <td>Product arrived labeled as Jumbo Salted Peanut...</td>\n",
       "    </tr>\n",
       "    <tr>\n",
       "      <th>2</th>\n",
       "      <td>3</td>\n",
       "      <td>B000LQOCH0</td>\n",
       "      <td>ABXLMWJIXXAIN</td>\n",
       "      <td>Natalia Corres \"Natalia Corres\"</td>\n",
       "      <td>1</td>\n",
       "      <td>1</td>\n",
       "      <td>4</td>\n",
       "      <td>1219017600</td>\n",
       "      <td>\"Delight\" says it all</td>\n",
       "      <td>This is a confection that has been around a fe...</td>\n",
       "    </tr>\n",
       "    <tr>\n",
       "      <th>3</th>\n",
       "      <td>4</td>\n",
       "      <td>B000UA0QIQ</td>\n",
       "      <td>A395BORC6FGVXV</td>\n",
       "      <td>Karl</td>\n",
       "      <td>3</td>\n",
       "      <td>3</td>\n",
       "      <td>2</td>\n",
       "      <td>1307923200</td>\n",
       "      <td>Cough Medicine</td>\n",
       "      <td>If you are looking for the secret ingredient i...</td>\n",
       "    </tr>\n",
       "    <tr>\n",
       "      <th>4</th>\n",
       "      <td>5</td>\n",
       "      <td>B006K2ZZ7K</td>\n",
       "      <td>A1UQRSCLF8GW1T</td>\n",
       "      <td>Michael D. Bigham \"M. Wassir\"</td>\n",
       "      <td>0</td>\n",
       "      <td>0</td>\n",
       "      <td>5</td>\n",
       "      <td>1350777600</td>\n",
       "      <td>Great taffy</td>\n",
       "      <td>Great taffy at a great price.  There was a wid...</td>\n",
       "    </tr>\n",
       "  </tbody>\n",
       "</table>\n",
       "</div>"
      ],
      "text/plain": [
       "   id   productid          userid                      profilename  \\\n",
       "0   1  B001E4KFG0  A3SGXH7AUHU8GW                       delmartian   \n",
       "1   2  B00813GRG4  A1D87F6ZCVE5NK                           dll pa   \n",
       "2   3  B000LQOCH0   ABXLMWJIXXAIN  Natalia Corres \"Natalia Corres\"   \n",
       "3   4  B000UA0QIQ  A395BORC6FGVXV                             Karl   \n",
       "4   5  B006K2ZZ7K  A1UQRSCLF8GW1T    Michael D. Bigham \"M. Wassir\"   \n",
       "\n",
       "   helpfulnessnumerator  helpfulnessdenominator  score        time  \\\n",
       "0                     1                       1      5  1303862400   \n",
       "1                     0                       0      1  1346976000   \n",
       "2                     1                       1      4  1219017600   \n",
       "3                     3                       3      2  1307923200   \n",
       "4                     0                       0      5  1350777600   \n",
       "\n",
       "                 summary                                               text  \n",
       "0  Good Quality Dog Food  I have bought several of the Vitality canned d...  \n",
       "1      Not as Advertised  Product arrived labeled as Jumbo Salted Peanut...  \n",
       "2  \"Delight\" says it all  This is a confection that has been around a fe...  \n",
       "3         Cough Medicine  If you are looking for the secret ingredient i...  \n",
       "4            Great taffy  Great taffy at a great price.  There was a wid...  "
      ]
     },
     "execution_count": 31,
     "metadata": {},
     "output_type": "execute_result"
    }
   ],
   "source": [
    "df.head()"
   ]
  },
  {
   "cell_type": "code",
   "execution_count": 34,
   "metadata": {},
   "outputs": [
    {
     "data": {
      "text/html": [
       "<div>\n",
       "<style scoped>\n",
       "    .dataframe tbody tr th:only-of-type {\n",
       "        vertical-align: middle;\n",
       "    }\n",
       "\n",
       "    .dataframe tbody tr th {\n",
       "        vertical-align: top;\n",
       "    }\n",
       "\n",
       "    .dataframe thead th {\n",
       "        text-align: right;\n",
       "    }\n",
       "</style>\n",
       "<table border=\"1\" class=\"dataframe\">\n",
       "  <thead>\n",
       "    <tr style=\"text-align: right;\">\n",
       "      <th></th>\n",
       "      <th>index</th>\n",
       "      <th>id</th>\n",
       "      <th>productid</th>\n",
       "      <th>userid</th>\n",
       "      <th>profilename</th>\n",
       "      <th>helpfulnessnumerator</th>\n",
       "      <th>helpfulnessdenominator</th>\n",
       "      <th>score</th>\n",
       "      <th>time</th>\n",
       "      <th>summary</th>\n",
       "      <th>text</th>\n",
       "    </tr>\n",
       "  </thead>\n",
       "  <tbody>\n",
       "    <tr>\n",
       "      <th>0</th>\n",
       "      <td>449283</td>\n",
       "      <td>449284</td>\n",
       "      <td>B000R9Q40E</td>\n",
       "      <td>A1RQBPH48JUIS9</td>\n",
       "      <td>Kathi</td>\n",
       "      <td>0</td>\n",
       "      <td>0</td>\n",
       "      <td>5</td>\n",
       "      <td>1347753600</td>\n",
       "      <td>Highly recommended if you can handle the quantity</td>\n",
       "      <td>I learned how great this stuff was a couple of...</td>\n",
       "    </tr>\n",
       "    <tr>\n",
       "      <th>1</th>\n",
       "      <td>548406</td>\n",
       "      <td>548407</td>\n",
       "      <td>B007P6HV5Y</td>\n",
       "      <td>A29P51TN9KKMU9</td>\n",
       "      <td>Azzrian</td>\n",
       "      <td>0</td>\n",
       "      <td>0</td>\n",
       "      <td>5</td>\n",
       "      <td>1348617600</td>\n",
       "      <td>Oh La La!</td>\n",
       "      <td>Wooo hoooo my third matcha today. Its been a l...</td>\n",
       "    </tr>\n",
       "    <tr>\n",
       "      <th>2</th>\n",
       "      <td>37438</td>\n",
       "      <td>37439</td>\n",
       "      <td>B000FBO9LK</td>\n",
       "      <td>A2OWR2PL3DLWS4</td>\n",
       "      <td>Love to Cook</td>\n",
       "      <td>0</td>\n",
       "      <td>0</td>\n",
       "      <td>5</td>\n",
       "      <td>1264032000</td>\n",
       "      <td>YUM- like a perfect Rice Crispy</td>\n",
       "      <td>If Rice Crispy bars were made with good chocol...</td>\n",
       "    </tr>\n",
       "    <tr>\n",
       "      <th>3</th>\n",
       "      <td>95984</td>\n",
       "      <td>95985</td>\n",
       "      <td>B006ACQYXY</td>\n",
       "      <td>AY6QZ7AY3AK8Z</td>\n",
       "      <td>Ashwani Batra \"Ashwani\"</td>\n",
       "      <td>17</td>\n",
       "      <td>24</td>\n",
       "      <td>1</td>\n",
       "      <td>1334188800</td>\n",
       "      <td>Fluoridated salt</td>\n",
       "      <td>I thought this salt was fluoride free unfortun...</td>\n",
       "    </tr>\n",
       "    <tr>\n",
       "      <th>4</th>\n",
       "      <td>375003</td>\n",
       "      <td>375004</td>\n",
       "      <td>B001CAT1ZM</td>\n",
       "      <td>A19LOYSSYGHLX6</td>\n",
       "      <td>salgoud42</td>\n",
       "      <td>1</td>\n",
       "      <td>1</td>\n",
       "      <td>5</td>\n",
       "      <td>1333929600</td>\n",
       "      <td>Kitchen Necessity</td>\n",
       "      <td>We buy this by the case.  All of children use ...</td>\n",
       "    </tr>\n",
       "  </tbody>\n",
       "</table>\n",
       "</div>"
      ],
      "text/plain": [
       "    index      id   productid          userid              profilename  \\\n",
       "0  449283  449284  B000R9Q40E  A1RQBPH48JUIS9                    Kathi   \n",
       "1  548406  548407  B007P6HV5Y  A29P51TN9KKMU9                  Azzrian   \n",
       "2   37438   37439  B000FBO9LK  A2OWR2PL3DLWS4             Love to Cook   \n",
       "3   95984   95985  B006ACQYXY   AY6QZ7AY3AK8Z  Ashwani Batra \"Ashwani\"   \n",
       "4  375003  375004  B001CAT1ZM  A19LOYSSYGHLX6                salgoud42   \n",
       "\n",
       "   helpfulnessnumerator  helpfulnessdenominator  score        time  \\\n",
       "0                     0                       0      5  1347753600   \n",
       "1                     0                       0      5  1348617600   \n",
       "2                     0                       0      5  1264032000   \n",
       "3                    17                      24      1  1334188800   \n",
       "4                     1                       1      5  1333929600   \n",
       "\n",
       "                                             summary  \\\n",
       "0  Highly recommended if you can handle the quantity   \n",
       "1                                          Oh La La!   \n",
       "2                    YUM- like a perfect Rice Crispy   \n",
       "3                                   Fluoridated salt   \n",
       "4                                  Kitchen Necessity   \n",
       "\n",
       "                                                text  \n",
       "0  I learned how great this stuff was a couple of...  \n",
       "1  Wooo hoooo my third matcha today. Its been a l...  \n",
       "2  If Rice Crispy bars were made with good chocol...  \n",
       "3  I thought this salt was fluoride free unfortun...  \n",
       "4  We buy this by the case.  All of children use ...  "
      ]
     },
     "execution_count": 34,
     "metadata": {},
     "output_type": "execute_result"
    }
   ],
   "source": [
    "df = df.sample(n=1000, random_state=5).reset_index()\n",
    "df.head()"
   ]
  },
  {
   "cell_type": "code",
   "execution_count": 35,
   "metadata": {},
   "outputs": [
    {
     "data": {
      "image/png": "[encoded data removed]",
      "text/plain": [
       "<Figure size 1000x500 with 1 Axes>"
      ]
     },
     "metadata": {},
     "output_type": "display_data"
    }
   ],
   "source": [
    "ax = df['score'].value_counts().sort_index().plot(kind='bar', title='Review count by star', figsize=(10,5))\n",
    "ax.set_xlabel(\"Star Count\")\n",
    "plt.xticks(rotation='horizontal')\n",
    "plt.show()"
   ]
  },
  {
   "cell_type": "code",
   "execution_count": 36,
   "metadata": {},
   "outputs": [
    {
     "data": {
      "text/plain": [
       "['My', 'wife', 'and', 'I', 'were', 'very', 'surprised', '.', 'The', 'eggs']"
      ]
     },
     "execution_count": 36,
     "metadata": {},
     "output_type": "execute_result"
    }
   ],
   "source": [
    "tokens = nltk.word_tokenize(df['text'][53])\n",
    "tokens[:10]"
   ]
  },
  {
   "cell_type": "code",
   "execution_count": 37,
   "metadata": {},
   "outputs": [
    {
     "data": {
      "text/plain": [
       "[('My', 'PRP$'),\n",
       " ('wife', 'NN'),\n",
       " ('and', 'CC'),\n",
       " ('I', 'PRP'),\n",
       " ('were', 'VBD'),\n",
       " ('very', 'RB'),\n",
       " ('surprised', 'JJ'),\n",
       " ('.', '.'),\n",
       " ('The', 'DT'),\n",
       " ('eggs', 'NNS')]"
      ]
     },
     "execution_count": 37,
     "metadata": {},
     "output_type": "execute_result"
    }
   ],
   "source": [
    "tagged = nltk.pos_tag(tokens)\n",
    "tagged[:10]"
   ]
  },
  {
   "cell_type": "code",
   "execution_count": 38,
   "metadata": {},
   "outputs": [
    {
     "name": "stdout",
     "output_type": "stream",
     "text": [
      "(S\n",
      "  My/PRP$\n",
      "  wife/NN\n",
      "  and/CC\n",
      "  I/PRP\n",
      "  were/VBD\n",
      "  very/RB\n",
      "  surprised/JJ\n",
      "  ./.\n",
      "  The/DT\n",
      "  eggs/NNS\n",
      "  ,/,\n",
      "  in/IN\n",
      "  water/NN\n",
      "  ,/,\n",
      "  look/VB\n",
      "  just/RB\n",
      "  like/IN\n",
      "  real/JJ\n",
      "  fresh/JJ\n",
      "  eggs/NNS\n",
      "  ./.\n",
      "  They/PRP\n",
      "  cooked/VBD\n",
      "  just/RB\n",
      "  like/IN\n",
      "  real/JJ\n",
      "  eggs/NNS\n",
      "  and/CC\n",
      "  tasted/VBD\n",
      "  then/RB\n",
      "  real/JJ\n",
      "  eggs/NNS\n",
      "  ./.\n",
      "  We/PRP\n",
      "  love/VBP\n",
      "  these/DT\n",
      "  and/CC\n",
      "  will/MD\n",
      "  be/VB\n",
      "  getting/VBG\n",
      "  more/JJR\n",
      "  for/IN\n",
      "  long/JJ\n",
      "  term/NN\n",
      "  storage/NN\n",
      "  ./.)\n"
     ]
    }
   ],
   "source": [
    "nltk.chunk.ne_chunk(tagged).pprint()"
   ]
  },
  {
   "cell_type": "code",
   "execution_count": 39,
   "metadata": {},
   "outputs": [
    {
     "name": "stderr",
     "output_type": "stream",
     "text": [
      "[nltk_data] Downloading package vader_lexicon to\n",
      "[nltk_data]     C:\\Users\\DELL\\AppData\\Roaming\\nltk_data...\n",
      "[nltk_data]   Package vader_lexicon is already up-to-date!\n"
     ]
    },
    {
     "data": {
      "text/plain": [
       "True"
      ]
     },
     "execution_count": 39,
     "metadata": {},
     "output_type": "execute_result"
    }
   ],
   "source": [
    "from nltk.sentiment import SentimentIntensityAnalyzer\n",
    "from tqdm.notebook import tqdm\n",
    "\n",
    "nltk.download('vader_lexicon')"
   ]
  },
  {
   "cell_type": "code",
   "execution_count": 40,
   "metadata": {},
   "outputs": [],
   "source": [
    "analyzer = SentimentIntensityAnalyzer() "
   ]
  },
  {
   "cell_type": "code",
   "execution_count": 41,
   "metadata": {},
   "outputs": [
    {
     "data": {
      "text/plain": [
       "{'neg': 0.35, 'neu': 0.4, 'pos': 0.25, 'compound': -0.25}"
      ]
     },
     "execution_count": 41,
     "metadata": {},
     "output_type": "execute_result"
    }
   ],
   "source": [
    "analyzer.polarity_scores('I like the bad taste of it')"
   ]
  },
  {
   "cell_type": "code",
   "execution_count": 42,
   "metadata": {},
   "outputs": [
    {
     "data": {
      "application/vnd.jupyter.widget-view+json": {
       "model_id": "c705969d7cb74223a44aae51ad016d54",
       "version_major": 2,
       "version_minor": 0
      },
      "text/plain": [
       "  0%|          | 0/1000 [00:00<?, ?it/s]"
      ]
     },
     "metadata": {},
     "output_type": "display_data"
    }
   ],
   "source": [
    "res = {}\n",
    "\n",
    "for i, row in tqdm(df.iterrows(), total=len(df)):\n",
    "    text = row['text']\n",
    "    id = row['id']\n",
    "    res[id] = analyzer.polarity_scores(text)"
   ]
  },
  {
   "cell_type": "code",
   "execution_count": 43,
   "metadata": {},
   "outputs": [
    {
     "data": {
      "text/html": [
       "<div>\n",
       "<style scoped>\n",
       "    .dataframe tbody tr th:only-of-type {\n",
       "        vertical-align: middle;\n",
       "    }\n",
       "\n",
       "    .dataframe tbody tr th {\n",
       "        vertical-align: top;\n",
       "    }\n",
       "\n",
       "    .dataframe thead th {\n",
       "        text-align: right;\n",
       "    }\n",
       "</style>\n",
       "<table border=\"1\" class=\"dataframe\">\n",
       "  <thead>\n",
       "    <tr style=\"text-align: right;\">\n",
       "      <th></th>\n",
       "      <th>id</th>\n",
       "      <th>neg</th>\n",
       "      <th>neu</th>\n",
       "      <th>pos</th>\n",
       "      <th>compound</th>\n",
       "    </tr>\n",
       "  </thead>\n",
       "  <tbody>\n",
       "    <tr>\n",
       "      <th>0</th>\n",
       "      <td>449284</td>\n",
       "      <td>0.069</td>\n",
       "      <td>0.649</td>\n",
       "      <td>0.282</td>\n",
       "      <td>0.9527</td>\n",
       "    </tr>\n",
       "    <tr>\n",
       "      <th>1</th>\n",
       "      <td>548407</td>\n",
       "      <td>0.005</td>\n",
       "      <td>0.879</td>\n",
       "      <td>0.116</td>\n",
       "      <td>0.9875</td>\n",
       "    </tr>\n",
       "    <tr>\n",
       "      <th>2</th>\n",
       "      <td>37439</td>\n",
       "      <td>0.066</td>\n",
       "      <td>0.700</td>\n",
       "      <td>0.234</td>\n",
       "      <td>0.9810</td>\n",
       "    </tr>\n",
       "    <tr>\n",
       "      <th>3</th>\n",
       "      <td>95985</td>\n",
       "      <td>0.099</td>\n",
       "      <td>0.831</td>\n",
       "      <td>0.071</td>\n",
       "      <td>-0.5267</td>\n",
       "    </tr>\n",
       "    <tr>\n",
       "      <th>4</th>\n",
       "      <td>375004</td>\n",
       "      <td>0.000</td>\n",
       "      <td>0.946</td>\n",
       "      <td>0.054</td>\n",
       "      <td>0.2500</td>\n",
       "    </tr>\n",
       "  </tbody>\n",
       "</table>\n",
       "</div>"
      ],
      "text/plain": [
       "       id    neg    neu    pos  compound\n",
       "0  449284  0.069  0.649  0.282    0.9527\n",
       "1  548407  0.005  0.879  0.116    0.9875\n",
       "2   37439  0.066  0.700  0.234    0.9810\n",
       "3   95985  0.099  0.831  0.071   -0.5267\n",
       "4  375004  0.000  0.946  0.054    0.2500"
      ]
     },
     "execution_count": 43,
     "metadata": {},
     "output_type": "execute_result"
    }
   ],
   "source": [
    "vaders = pd.DataFrame(res).T.reset_index().rename(columns={'index':'id'})\n",
    "vaders.head()"
   ]
  },
  {
   "cell_type": "code",
   "execution_count": 44,
   "metadata": {},
   "outputs": [
    {
     "data": {
      "text/html": [
       "<div>\n",
       "<style scoped>\n",
       "    .dataframe tbody tr th:only-of-type {\n",
       "        vertical-align: middle;\n",
       "    }\n",
       "\n",
       "    .dataframe tbody tr th {\n",
       "        vertical-align: top;\n",
       "    }\n",
       "\n",
       "    .dataframe thead th {\n",
       "        text-align: right;\n",
       "    }\n",
       "</style>\n",
       "<table border=\"1\" class=\"dataframe\">\n",
       "  <thead>\n",
       "    <tr style=\"text-align: right;\">\n",
       "      <th></th>\n",
       "      <th>id</th>\n",
       "      <th>neg</th>\n",
       "      <th>neu</th>\n",
       "      <th>pos</th>\n",
       "      <th>compound</th>\n",
       "      <th>index</th>\n",
       "      <th>productid</th>\n",
       "      <th>userid</th>\n",
       "      <th>profilename</th>\n",
       "      <th>helpfulnessnumerator</th>\n",
       "      <th>helpfulnessdenominator</th>\n",
       "      <th>score</th>\n",
       "      <th>time</th>\n",
       "      <th>summary</th>\n",
       "      <th>text</th>\n",
       "    </tr>\n",
       "  </thead>\n",
       "  <tbody>\n",
       "    <tr>\n",
       "      <th>0</th>\n",
       "      <td>449284</td>\n",
       "      <td>0.069</td>\n",
       "      <td>0.649</td>\n",
       "      <td>0.282</td>\n",
       "      <td>0.9527</td>\n",
       "      <td>449283</td>\n",
       "      <td>B000R9Q40E</td>\n",
       "      <td>A1RQBPH48JUIS9</td>\n",
       "      <td>Kathi</td>\n",
       "      <td>0</td>\n",
       "      <td>0</td>\n",
       "      <td>5</td>\n",
       "      <td>1347753600</td>\n",
       "      <td>Highly recommended if you can handle the quantity</td>\n",
       "      <td>I learned how great this stuff was a couple of...</td>\n",
       "    </tr>\n",
       "    <tr>\n",
       "      <th>1</th>\n",
       "      <td>548407</td>\n",
       "      <td>0.005</td>\n",
       "      <td>0.879</td>\n",
       "      <td>0.116</td>\n",
       "      <td>0.9875</td>\n",
       "      <td>548406</td>\n",
       "      <td>B007P6HV5Y</td>\n",
       "      <td>A29P51TN9KKMU9</td>\n",
       "      <td>Azzrian</td>\n",
       "      <td>0</td>\n",
       "      <td>0</td>\n",
       "      <td>5</td>\n",
       "      <td>1348617600</td>\n",
       "      <td>Oh La La!</td>\n",
       "      <td>Wooo hoooo my third matcha today. Its been a l...</td>\n",
       "    </tr>\n",
       "    <tr>\n",
       "      <th>2</th>\n",
       "      <td>37439</td>\n",
       "      <td>0.066</td>\n",
       "      <td>0.700</td>\n",
       "      <td>0.234</td>\n",
       "      <td>0.9810</td>\n",
       "      <td>37438</td>\n",
       "      <td>B000FBO9LK</td>\n",
       "      <td>A2OWR2PL3DLWS4</td>\n",
       "      <td>Love to Cook</td>\n",
       "      <td>0</td>\n",
       "      <td>0</td>\n",
       "      <td>5</td>\n",
       "      <td>1264032000</td>\n",
       "      <td>YUM- like a perfect Rice Crispy</td>\n",
       "      <td>If Rice Crispy bars were made with good chocol...</td>\n",
       "    </tr>\n",
       "    <tr>\n",
       "      <th>3</th>\n",
       "      <td>95985</td>\n",
       "      <td>0.099</td>\n",
       "      <td>0.831</td>\n",
       "      <td>0.071</td>\n",
       "      <td>-0.5267</td>\n",
       "      <td>95984</td>\n",
       "      <td>B006ACQYXY</td>\n",
       "      <td>AY6QZ7AY3AK8Z</td>\n",
       "      <td>Ashwani Batra \"Ashwani\"</td>\n",
       "      <td>17</td>\n",
       "      <td>24</td>\n",
       "      <td>1</td>\n",
       "      <td>1334188800</td>\n",
       "      <td>Fluoridated salt</td>\n",
       "      <td>I thought this salt was fluoride free unfortun...</td>\n",
       "    </tr>\n",
       "    <tr>\n",
       "      <th>4</th>\n",
       "      <td>375004</td>\n",
       "      <td>0.000</td>\n",
       "      <td>0.946</td>\n",
       "      <td>0.054</td>\n",
       "      <td>0.2500</td>\n",
       "      <td>375003</td>\n",
       "      <td>B001CAT1ZM</td>\n",
       "      <td>A19LOYSSYGHLX6</td>\n",
       "      <td>salgoud42</td>\n",
       "      <td>1</td>\n",
       "      <td>1</td>\n",
       "      <td>5</td>\n",
       "      <td>1333929600</td>\n",
       "      <td>Kitchen Necessity</td>\n",
       "      <td>We buy this by the case.  All of children use ...</td>\n",
       "    </tr>\n",
       "    <tr>\n",
       "      <th>...</th>\n",
       "      <td>...</td>\n",
       "      <td>...</td>\n",
       "      <td>...</td>\n",
       "      <td>...</td>\n",
       "      <td>...</td>\n",
       "      <td>...</td>\n",
       "      <td>...</td>\n",
       "      <td>...</td>\n",
       "      <td>...</td>\n",
       "      <td>...</td>\n",
       "      <td>...</td>\n",
       "      <td>...</td>\n",
       "      <td>...</td>\n",
       "      <td>...</td>\n",
       "      <td>...</td>\n",
       "    </tr>\n",
       "    <tr>\n",
       "      <th>995</th>\n",
       "      <td>50123</td>\n",
       "      <td>0.000</td>\n",
       "      <td>0.783</td>\n",
       "      <td>0.217</td>\n",
       "      <td>0.8698</td>\n",
       "      <td>50122</td>\n",
       "      <td>B001E6PKOA</td>\n",
       "      <td>A4FL32BUR1TMO</td>\n",
       "      <td>D. C. \"Truth in Sight\"</td>\n",
       "      <td>0</td>\n",
       "      <td>0</td>\n",
       "      <td>5</td>\n",
       "      <td>1328486400</td>\n",
       "      <td>Dog loves IT</td>\n",
       "      <td>My dog has a very sensitive stomach and this p...</td>\n",
       "    </tr>\n",
       "    <tr>\n",
       "      <th>996</th>\n",
       "      <td>35533</td>\n",
       "      <td>0.000</td>\n",
       "      <td>0.661</td>\n",
       "      <td>0.339</td>\n",
       "      <td>0.9370</td>\n",
       "      <td>35532</td>\n",
       "      <td>B000QZOYG0</td>\n",
       "      <td>A2B8I8BHYNO5E3</td>\n",
       "      <td>Stacey Phok</td>\n",
       "      <td>0</td>\n",
       "      <td>0</td>\n",
       "      <td>5</td>\n",
       "      <td>1345248000</td>\n",
       "      <td>Delicious</td>\n",
       "      <td>I bought these chocolate baseballs to add to f...</td>\n",
       "    </tr>\n",
       "    <tr>\n",
       "      <th>997</th>\n",
       "      <td>39126</td>\n",
       "      <td>0.030</td>\n",
       "      <td>0.708</td>\n",
       "      <td>0.262</td>\n",
       "      <td>0.9466</td>\n",
       "      <td>39125</td>\n",
       "      <td>B0008DIF6A</td>\n",
       "      <td>A1MU8KNKXES790</td>\n",
       "      <td>Val</td>\n",
       "      <td>0</td>\n",
       "      <td>0</td>\n",
       "      <td>5</td>\n",
       "      <td>1338768000</td>\n",
       "      <td>Perfect!</td>\n",
       "      <td>I used these for making the \"ladybug cake bits...</td>\n",
       "    </tr>\n",
       "    <tr>\n",
       "      <th>998</th>\n",
       "      <td>414120</td>\n",
       "      <td>0.000</td>\n",
       "      <td>0.685</td>\n",
       "      <td>0.315</td>\n",
       "      <td>0.8645</td>\n",
       "      <td>414119</td>\n",
       "      <td>B005IDW20A</td>\n",
       "      <td>A1FF5NFZIK2SLG</td>\n",
       "      <td>Kelly</td>\n",
       "      <td>0</td>\n",
       "      <td>0</td>\n",
       "      <td>5</td>\n",
       "      <td>1341964800</td>\n",
       "      <td>Freezy Pups</td>\n",
       "      <td>Dogs love them! They are sticky when handling ...</td>\n",
       "    </tr>\n",
       "    <tr>\n",
       "      <th>999</th>\n",
       "      <td>341400</td>\n",
       "      <td>0.024</td>\n",
       "      <td>0.792</td>\n",
       "      <td>0.184</td>\n",
       "      <td>0.9299</td>\n",
       "      <td>341399</td>\n",
       "      <td>B001RVFEP2</td>\n",
       "      <td>AFTPBXAEUB993</td>\n",
       "      <td>JLuv</td>\n",
       "      <td>0</td>\n",
       "      <td>0</td>\n",
       "      <td>5</td>\n",
       "      <td>1327968000</td>\n",
       "      <td>Tasty</td>\n",
       "      <td>These are super tasty treats for days when you...</td>\n",
       "    </tr>\n",
       "  </tbody>\n",
       "</table>\n",
       "<p>1000 rows × 15 columns</p>\n",
       "</div>"
      ],
      "text/plain": [
       "         id    neg    neu    pos  compound   index   productid  \\\n",
       "0    449284  0.069  0.649  0.282    0.9527  449283  B000R9Q40E   \n",
       "1    548407  0.005  0.879  0.116    0.9875  548406  B007P6HV5Y   \n",
       "2     37439  0.066  0.700  0.234    0.9810   37438  B000FBO9LK   \n",
       "3     95985  0.099  0.831  0.071   -0.5267   95984  B006ACQYXY   \n",
       "4    375004  0.000  0.946  0.054    0.2500  375003  B001CAT1ZM   \n",
       "..      ...    ...    ...    ...       ...     ...         ...   \n",
       "995   50123  0.000  0.783  0.217    0.8698   50122  B001E6PKOA   \n",
       "996   35533  0.000  0.661  0.339    0.9370   35532  B000QZOYG0   \n",
       "997   39126  0.030  0.708  0.262    0.9466   39125  B0008DIF6A   \n",
       "998  414120  0.000  0.685  0.315    0.8645  414119  B005IDW20A   \n",
       "999  341400  0.024  0.792  0.184    0.9299  341399  B001RVFEP2   \n",
       "\n",
       "             userid              profilename  helpfulnessnumerator  \\\n",
       "0    A1RQBPH48JUIS9                    Kathi                     0   \n",
       "1    A29P51TN9KKMU9                  Azzrian                     0   \n",
       "2    A2OWR2PL3DLWS4             Love to Cook                     0   \n",
       "3     AY6QZ7AY3AK8Z  Ashwani Batra \"Ashwani\"                    17   \n",
       "4    A19LOYSSYGHLX6                salgoud42                     1   \n",
       "..              ...                      ...                   ...   \n",
       "995   A4FL32BUR1TMO   D. C. \"Truth in Sight\"                     0   \n",
       "996  A2B8I8BHYNO5E3              Stacey Phok                     0   \n",
       "997  A1MU8KNKXES790                      Val                     0   \n",
       "998  A1FF5NFZIK2SLG                    Kelly                     0   \n",
       "999   AFTPBXAEUB993                     JLuv                     0   \n",
       "\n",
       "     helpfulnessdenominator  score        time  \\\n",
       "0                         0      5  1347753600   \n",
       "1                         0      5  1348617600   \n",
       "2                         0      5  1264032000   \n",
       "3                        24      1  1334188800   \n",
       "4                         1      5  1333929600   \n",
       "..                      ...    ...         ...   \n",
       "995                       0      5  1328486400   \n",
       "996                       0      5  1345248000   \n",
       "997                       0      5  1338768000   \n",
       "998                       0      5  1341964800   \n",
       "999                       0      5  1327968000   \n",
       "\n",
       "                                               summary  \\\n",
       "0    Highly recommended if you can handle the quantity   \n",
       "1                                            Oh La La!   \n",
       "2                      YUM- like a perfect Rice Crispy   \n",
       "3                                     Fluoridated salt   \n",
       "4                                    Kitchen Necessity   \n",
       "..                                                 ...   \n",
       "995                                       Dog loves IT   \n",
       "996                                          Delicious   \n",
       "997                                           Perfect!   \n",
       "998                                        Freezy Pups   \n",
       "999                                              Tasty   \n",
       "\n",
       "                                                  text  \n",
       "0    I learned how great this stuff was a couple of...  \n",
       "1    Wooo hoooo my third matcha today. Its been a l...  \n",
       "2    If Rice Crispy bars were made with good chocol...  \n",
       "3    I thought this salt was fluoride free unfortun...  \n",
       "4    We buy this by the case.  All of children use ...  \n",
       "..                                                 ...  \n",
       "995  My dog has a very sensitive stomach and this p...  \n",
       "996  I bought these chocolate baseballs to add to f...  \n",
       "997  I used these for making the \"ladybug cake bits...  \n",
       "998  Dogs love them! They are sticky when handling ...  \n",
       "999  These are super tasty treats for days when you...  \n",
       "\n",
       "[1000 rows x 15 columns]"
      ]
     },
     "execution_count": 44,
     "metadata": {},
     "output_type": "execute_result"
    }
   ],
   "source": [
    "vaders = vaders.merge(df, how='left')\n",
    "vaders"
   ]
  },
  {
   "cell_type": "code",
   "execution_count": 45,
   "metadata": {},
   "outputs": [
    {
     "data": {
      "text/plain": [
       "<Axes: xlabel='score', ylabel='compound'>"
      ]
     },
     "execution_count": 45,
     "metadata": {},
     "output_type": "execute_result"
    },
    {
     "data": {
      "image/png": "[encoded data removed]",
      "text/plain": [
       "<Figure size 640x480 with 1 Axes>"
      ]
     },
     "metadata": {},
     "output_type": "display_data"
    }
   ],
   "source": [
    "sns.barplot(data=vaders, x='score', y='compound')"
   ]
  },
  {
   "cell_type": "markdown",
   "metadata": {},
   "source": [
    "trying hugging face model"
   ]
  },
  {
   "cell_type": "code",
   "execution_count": 47,
   "metadata": {},
   "outputs": [],
   "source": [
    "from transformers import AutoTokenizer\n",
    "from transformers import AutoModelForSequenceClassification\n",
    "from scipy.special import softmax\n",
    "import torch"
   ]
  },
  {
   "cell_type": "code",
   "execution_count": 48,
   "metadata": {},
   "outputs": [],
   "source": [
    "model_name = f\"cardiffnlp/twitter-roberta-base-sentiment\"\n",
    "tokenizer = AutoTokenizer.from_pretrained(model_name)\n",
    "model = AutoModelForSequenceClassification.from_pretrained(model_name)"
   ]
  },
  {
   "cell_type": "code",
   "execution_count": 83,
   "metadata": {},
   "outputs": [
    {
     "name": "stdout",
     "output_type": "stream",
     "text": [
      "Why is this $[...] when the same product is available for $[...] here?<br />http://www.amazon.com/VICTOR-FLY-MAGNET-BAIT-REFILL/dp/B00004RBDY<br /><br />The Victor M380 and M502 traps are unreal, of course -- total fly genocide. Pretty stinky, but only right nearby.\n",
      "{'neg': 0.047, 'neu': 0.896, 'pos': 0.057, 'compound': 0.09}\n"
     ]
    }
   ],
   "source": [
    "test = df['text'][13]\n",
    "print(test)\n",
    "print(analyzer.polarity_scores(test))"
   ]
  },
  {
   "cell_type": "code",
   "execution_count": 85,
   "metadata": {},
   "outputs": [
    {
     "data": {
      "text/plain": [
       "array([0.8448366 , 0.13822384, 0.0169395 ], dtype=float32)"
      ]
     },
     "execution_count": 85,
     "metadata": {},
     "output_type": "execute_result"
    }
   ],
   "source": [
    "encoded = tokenizer(test, return_tensors='pt')\n",
    "output = model(**encoded)\n",
    "softmax(output[0][0].detach().numpy())"
   ]
  },
  {
   "cell_type": "code",
   "execution_count": null,
   "metadata": {},
   "outputs": [],
   "source": []
  }
 ],
 "metadata": {
  "kernelspec": {
   "display_name": "Python 3",
   "language": "python",
   "name": "python3"
  },
  "language_info": {
   "codemirror_mode": {
    "name": "ipython",
    "version": 3
   },
   "file_extension": ".py",
   "mimetype": "text/x-python",
   "name": "python",
   "nbconvert_exporter": "python",
   "pygments_lexer": "ipython3",
   "version": "3.12.4"
  }
 },
 "nbformat": 4,
 "nbformat_minor": 2
}
